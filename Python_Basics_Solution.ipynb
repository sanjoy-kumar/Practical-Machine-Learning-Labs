{
  "cells": [
    {
      "cell_type": "markdown",
      "metadata": {
        "id": "view-in-github",
        "colab_type": "text"
      },
      "source": [
        "<a href=\"https://colab.research.google.com/github/sanjoy-kumar/Practical-Machine-Learning-Labs/blob/main/Python_Basics_Solution.ipynb\" target=\"_parent\"><img src=\"https://colab.research.google.com/assets/colab-badge.svg\" alt=\"Open In Colab\"/></a>"
      ]
    },
    {
      "cell_type": "markdown",
      "source": [
        "<center><h1> Python Basics</h1></center>\n"
      ],
      "metadata": {
        "id": "X01f_sPwOnmX"
      }
    },
    {
      "cell_type": "markdown",
      "source": [
        "![image.png](https://pythonawesome.com/content/images/2019/09/Edward2.jpg)"
      ],
      "metadata": {
        "id": "sAxrb2-DOwQ2"
      }
    },
    {
      "cell_type": "code",
      "execution_count": null,
      "source": [
        "from IPython.display import YouTubeVideo\n",
        "YouTubeVideo('https://www.youtube.com/watch?v=izgBmCnp1Oc&list=PLsR_0x6BuM-HJZT6Xzj-088N4hN3KsDME&index=1',width=600,height=300)"
      ],
      "outputs": [
        {
          "output_type": "execute_result",
          "data": {
            "text/html": [
              "\n",
              "        <iframe\n",
              "            width=\"600\"\n",
              "            height=\"300\"\n",
              "            src=\"https://www.youtube.com/embed/https://www.youtube.com/watch?v=izgBmCnp1Oc&list=PLsR_0x6BuM-HJZT6Xzj-088N4hN3KsDME&index=1\"\n",
              "            frameborder=\"0\"\n",
              "            allowfullscreen\n",
              "        ></iframe>\n",
              "        "
            ],
            "text/plain": [
              "<IPython.lib.display.YouTubeVideo at 0x7efe85638790>"
            ]
          },
          "metadata": {},
          "execution_count": 4
        }
      ],
      "metadata": {
        "colab": {
          "base_uri": "https://localhost:8080/",
          "height": 321
        },
        "id": "j6_2OG08Onmh",
        "outputId": "1fdf47f9-61f5-40f8-f1c2-fea6b87b5c88"
      }
    },
    {
      "cell_type": "markdown",
      "source": [
        "Python is emerging as the popular language used more in data science applications.\n",
        "\n",
        "Take the case of the tech giant Google that has created the deep learning framework called tensorflow – Python is the primary language used for creating this framework. Its footprint has continued to increase in the environment promoted by Netflix. Production engineers at Facebook and Khan Academy have for long been using it as a prominent language in their environment.\n",
        "\n",
        "Python became the most popular language in the data science world.\n",
        "So what are you waiting for? Lets start learning python basic as your first assignment.\n",
        "\n",
        "\n",
        "Add-on Reference: https://youtu.be/HGOBQPFzWKo\n",
        "\n",
        "Add-on reference: https://youtu.be/8DvywoWv6fI\n",
        "\n",
        "\n",
        "## Variable declaration"
      ],
      "metadata": {
        "id": "rw6fWHMFOnmj"
      }
    },
    {
      "cell_type": "markdown",
      "source": [
        "Covers the topic of variable declaration and type of variables\n",
        "\n",
        "<p style='text-align: right;'> 1+1+1+1+1 = 5 points</p>\n"
      ],
      "metadata": {
        "id": "_B2hCySwOnmm"
      }
    },
    {
      "cell_type": "code",
      "source": [
        "#1 Variables\n",
        "\n",
        "YouTubeVideo('https://www.youtube.com/watch?v=YdDfEbaUPJs&list=PLsR_0x6BuM-HJZT6Xzj-088N4hN3KsDME&index=2',width=600,height=300)"
      ],
      "metadata": {
        "colab": {
          "base_uri": "https://localhost:8080/",
          "height": 321
        },
        "id": "ixKyik4SQj1y",
        "outputId": "9909f016-7240-4b93-8c86-f4b80cf0464f"
      },
      "execution_count": null,
      "outputs": [
        {
          "output_type": "execute_result",
          "data": {
            "text/html": [
              "\n",
              "        <iframe\n",
              "            width=\"600\"\n",
              "            height=\"300\"\n",
              "            src=\"https://www.youtube.com/embed/https://www.youtube.com/watch?v=YdDfEbaUPJs&list=PLsR_0x6BuM-HJZT6Xzj-088N4hN3KsDME&index=2\"\n",
              "            frameborder=\"0\"\n",
              "            allowfullscreen\n",
              "        ></iframe>\n",
              "        "
            ],
            "text/plain": [
              "<IPython.lib.display.YouTubeVideo at 0x7fc907f1fa50>"
            ]
          },
          "metadata": {},
          "execution_count": 6
        }
      ]
    },
    {
      "cell_type": "code",
      "source": [
        "#2 Variables\n",
        "\n",
        "YouTubeVideo('https://www.youtube.com/watch?v=gOcRxdGovhc&list=PLsR_0x6BuM-HJZT6Xzj-088N4hN3KsDME&index=3',width=600,height=300)"
      ],
      "metadata": {
        "colab": {
          "base_uri": "https://localhost:8080/",
          "height": 321
        },
        "id": "UlSqi2TSQvgw",
        "outputId": "b0b3019b-ed2d-4abc-fc7d-6d7dac0cdbde"
      },
      "execution_count": null,
      "outputs": [
        {
          "output_type": "execute_result",
          "data": {
            "text/html": [
              "\n",
              "        <iframe\n",
              "            width=\"600\"\n",
              "            height=\"300\"\n",
              "            src=\"https://www.youtube.com/embed/https://www.youtube.com/watch?v=gOcRxdGovhc&list=PLsR_0x6BuM-HJZT6Xzj-088N4hN3KsDME&index=3\"\n",
              "            frameborder=\"0\"\n",
              "            allowfullscreen\n",
              "        ></iframe>\n",
              "        "
            ],
            "text/plain": [
              "<IPython.lib.display.YouTubeVideo at 0x7fc907ea35d0>"
            ]
          },
          "metadata": {},
          "execution_count": 7
        }
      ]
    },
    {
      "cell_type": "code",
      "execution_count": null,
      "source": [
        "# declare two variables, a = 5, b = 'city'\n",
        "a = 5\n",
        "b = 'city'"
      ],
      "outputs": [],
      "metadata": {
        "id": "XgolDndUOnmn"
      }
    },
    {
      "cell_type": "code",
      "execution_count": null,
      "source": [
        "# print type of a\n",
        "print(type(a))\n"
      ],
      "outputs": [
        {
          "output_type": "stream",
          "name": "stdout",
          "text": [
            "<class 'int'>\n"
          ]
        }
      ],
      "metadata": {
        "id": "0UNQOo-QOnmo",
        "colab": {
          "base_uri": "https://localhost:8080/"
        },
        "outputId": "1952f163-e857-45d2-b3ed-d26d7ac2aadd"
      }
    },
    {
      "cell_type": "code",
      "execution_count": null,
      "source": [
        "# print type of b\n",
        "print(type(b))"
      ],
      "outputs": [
        {
          "output_type": "stream",
          "name": "stdout",
          "text": [
            "<class 'str'>\n"
          ]
        }
      ],
      "metadata": {
        "id": "HvaV3dnoOnms",
        "colab": {
          "base_uri": "https://localhost:8080/"
        },
        "outputId": "a32c744e-fd01-451d-b8ec-32acbf5d4896"
      }
    },
    {
      "cell_type": "code",
      "execution_count": null,
      "source": [
        "# swap the values of a and b\n",
        "# hint, if a = 3 and b = \"cloudyML\" then u can swap values like this\n",
        "\"\"\"\n",
        "a = 3\n",
        "b = \"cloudyML\"\n",
        "temp = a # defined a temporary variable and store value of a in temp\n",
        "a = b # swap\n",
        "b = temp # give value of a stored in temp to b\n",
        "\"\"\"\n",
        "temp = a\n",
        "a = b\n",
        "b = temp\n"
      ],
      "outputs": [],
      "metadata": {
        "id": "8fnWzilIOnmu"
      }
    },
    {
      "cell_type": "code",
      "execution_count": null,
      "source": [
        "# run this to confirm \n",
        "print(\"a = \",a)\n",
        "print(\"b = \",b)"
      ],
      "outputs": [
        {
          "output_type": "stream",
          "name": "stdout",
          "text": [
            "a =  city\n",
            "b =  5\n"
          ]
        }
      ],
      "metadata": {
        "id": "SWd_9g8YOnmv",
        "colab": {
          "base_uri": "https://localhost:8080/"
        },
        "outputId": "f4d32195-3263-40dc-dafe-c2c6c839e63e"
      }
    },
    {
      "cell_type": "markdown",
      "source": [
        "Cool! so variable declaration and getting it's type was easy."
      ],
      "metadata": {
        "id": "jZxcxXV2Onmx"
      }
    },
    {
      "cell_type": "code",
      "source": [
        "#3 Data Structure\n",
        "\n",
        "YouTubeVideo('https://www.youtube.com/watch?v=R0yDN07Jw_c&list=PLsR_0x6BuM-HJZT6Xzj-088N4hN3KsDME&index=4',width=600,height=300)"
      ],
      "metadata": {
        "colab": {
          "base_uri": "https://localhost:8080/",
          "height": 321
        },
        "id": "iGEGIEOsRG4N",
        "outputId": "6ffa9eef-8db8-4b03-d5d3-ee2c76f541e0"
      },
      "execution_count": null,
      "outputs": [
        {
          "output_type": "execute_result",
          "data": {
            "text/html": [
              "\n",
              "        <iframe\n",
              "            width=\"600\"\n",
              "            height=\"300\"\n",
              "            src=\"https://www.youtube.com/embed/https://www.youtube.com/watch?v=R0yDN07Jw_c&list=PLsR_0x6BuM-HJZT6Xzj-088N4hN3KsDME&index=4\"\n",
              "            frameborder=\"0\"\n",
              "            allowfullscreen\n",
              "        ></iframe>\n",
              "        "
            ],
            "text/plain": [
              "<IPython.lib.display.YouTubeVideo at 0x7fc907eec610>"
            ]
          },
          "metadata": {},
          "execution_count": 13
        }
      ]
    },
    {
      "cell_type": "markdown",
      "source": [
        "## Arithmetic Operations"
      ],
      "metadata": {
        "id": "pDfT0V3IOnmx"
      }
    },
    {
      "cell_type": "markdown",
      "source": [
        "Hey novice! this will be easy for you until you know basic arithmetic symbols like +, -, /, * etc.\n",
        "\n",
        "\n",
        "<p style='text-align: right;'> 1 + 7 = 8 points </p>\n"
      ],
      "metadata": {
        "id": "s7I8ndJiOnmy"
      }
    },
    {
      "cell_type": "code",
      "source": [
        "#4 Operators\n",
        "YouTubeVideo('https://www.youtube.com/watch?v=kj-UnITecRE&list=PLsR_0x6BuM-HJZT6Xzj-088N4hN3KsDME&index=10',width=600,height=300)"
      ],
      "metadata": {
        "colab": {
          "base_uri": "https://localhost:8080/",
          "height": 321
        },
        "id": "Gty2GGCgRXTF",
        "outputId": "5c2109a2-1043-4242-bd7e-ac65946e85a3"
      },
      "execution_count": null,
      "outputs": [
        {
          "output_type": "execute_result",
          "data": {
            "text/html": [
              "\n",
              "        <iframe\n",
              "            width=\"600\"\n",
              "            height=\"300\"\n",
              "            src=\"https://www.youtube.com/embed/https://www.youtube.com/watch?v=kj-UnITecRE&list=PLsR_0x6BuM-HJZT6Xzj-088N4hN3KsDME&index=10\"\n",
              "            frameborder=\"0\"\n",
              "            allowfullscreen\n",
              "        ></iframe>\n",
              "        "
            ],
            "text/plain": [
              "<IPython.lib.display.YouTubeVideo at 0x7fc907f05cd0>"
            ]
          },
          "metadata": {},
          "execution_count": 14
        }
      ]
    },
    {
      "cell_type": "code",
      "execution_count": null,
      "source": [
        "# declare two variables, a = 24, b = 3\n",
        "\n",
        "a = 24\n",
        "b = 3\n",
        "print('a = {0}, b = {1}'.format(a,b))"
      ],
      "outputs": [
        {
          "output_type": "stream",
          "name": "stdout",
          "text": [
            "a = 24, b = 3\n"
          ]
        }
      ],
      "metadata": {
        "id": "GrGEajK2Onmz",
        "colab": {
          "base_uri": "https://localhost:8080/"
        },
        "outputId": "64908bee-aec3-484e-86eb-f8d53a1f1782"
      }
    },
    {
      "cell_type": "code",
      "execution_count": null,
      "source": [
        "print(\" a + b = \", a + b) "
      ],
      "outputs": [
        {
          "output_type": "stream",
          "name": "stdout",
          "text": [
            " a + b =  27\n"
          ]
        }
      ],
      "metadata": {
        "id": "diniCQx5Onm0",
        "colab": {
          "base_uri": "https://localhost:8080/"
        },
        "outputId": "a885a5b3-b57b-446a-854c-65769e692e31"
      }
    },
    {
      "cell_type": "code",
      "execution_count": null,
      "source": [
        "# calculate and print all the possible numerical operations on a and b (There are total 7 operations)\n",
        "# You can use string formatting to get the exact output like ours.\n",
        "# hint: print(\"a + b = {}\".format(a+b))\n",
        "print(\"a + b = {}\".format(a+b))\n",
        "print(\"a - b = {}\".format(a - b))\n",
        "print(\"a * b = {}\".format(a * b))\n",
        "print(\"a / b = {}\".format(a / b))\n",
        "print(\"a % b = {}\".format(a % b))\n",
        "print(\"a // b = {}\".format(a // b))\n",
        "print(\"a ^ b = {}\".format(a ** b))"
      ],
      "outputs": [
        {
          "output_type": "stream",
          "name": "stdout",
          "text": [
            "a + b = 27\n",
            "a - b = 21\n",
            "a * b = 72\n",
            "a / b = 8.0\n",
            "a % b = 0\n",
            "a // b = 8\n",
            "a ^ b = 13824\n"
          ]
        }
      ],
      "metadata": {
        "id": "N_GYfccYOnm0",
        "colab": {
          "base_uri": "https://localhost:8080/"
        },
        "outputId": "5c8cbf31-489c-4b40-8d68-002c86e3aeca"
      }
    },
    {
      "cell_type": "markdown",
      "source": [
        "## Math Functions"
      ],
      "metadata": {
        "id": "SnON_Kw9Onm1"
      }
    },
    {
      "cell_type": "markdown",
      "source": [
        "Lets do some simple mathematical operations by using math module. Math module contains various mathematical functions. So here we go!\n",
        "\n",
        "Additional Reference:- https://youtu.be/gktjNyV0xks\n",
        "\n",
        "Reference document: https://docs.python.org/3/library/math.html\n",
        "<p style='text-align: right;'> 10 points </p>\n",
        "\n",
        "\n"
      ],
      "metadata": {
        "id": "1hTzZGrsOnm2"
      }
    },
    {
      "cell_type": "code",
      "execution_count": null,
      "source": [
        "#import math\n",
        "import math"
      ],
      "outputs": [],
      "metadata": {
        "id": "Y3odgoqgOnm2"
      }
    },
    {
      "cell_type": "code",
      "execution_count": null,
      "source": [
        "# declare a variable x = 2 and y=5.32167\n",
        "x = 2\n",
        "y = 5.32167"
      ],
      "outputs": [],
      "metadata": {
        "id": "vVALGHwCOnm3"
      }
    },
    {
      "cell_type": "code",
      "execution_count": null,
      "source": [
        "# Print the maximum value between x and y\n",
        "print(y)"
      ],
      "outputs": [
        {
          "output_type": "stream",
          "name": "stdout",
          "text": [
            "5.32167\n"
          ]
        }
      ],
      "metadata": {
        "id": "h9xFqnF7Onm3",
        "colab": {
          "base_uri": "https://localhost:8080/"
        },
        "outputId": "e8a0e66e-0399-42b8-b600-25955de98b3d"
      }
    },
    {
      "cell_type": "code",
      "execution_count": null,
      "source": [
        "# Print the minimum value between x and y\n",
        "print(x)"
      ],
      "outputs": [
        {
          "output_type": "stream",
          "name": "stdout",
          "text": [
            "2\n"
          ]
        }
      ],
      "metadata": {
        "id": "Ek-Wrhb6Onm3",
        "colab": {
          "base_uri": "https://localhost:8080/"
        },
        "outputId": "19706f55-0ea4-46a7-9e4b-9dcfc56bfbd1"
      }
    },
    {
      "cell_type": "code",
      "execution_count": null,
      "source": [
        "# Print square and cube of x and store in a and b variable\n",
        "a = x ** 2\n",
        "b = x ** 3\n",
        "print(a)\n",
        "print(b)"
      ],
      "outputs": [
        {
          "output_type": "stream",
          "name": "stdout",
          "text": [
            "4\n",
            "8\n"
          ]
        }
      ],
      "metadata": {
        "id": "NHK3kCGAOnm4",
        "colab": {
          "base_uri": "https://localhost:8080/"
        },
        "outputId": "5e393ad8-0a12-4fac-fbc8-f6f20d27a600"
      }
    },
    {
      "cell_type": "code",
      "execution_count": null,
      "source": [
        "#print log of x and store it in variable c\n",
        "c = math.log(x)\n",
        "print(c)"
      ],
      "outputs": [
        {
          "output_type": "stream",
          "name": "stdout",
          "text": [
            "0.6931471805599453\n"
          ]
        }
      ],
      "metadata": {
        "id": "ARYINv9AOnm4",
        "colab": {
          "base_uri": "https://localhost:8080/"
        },
        "outputId": "5fce02c6-b3d2-4fd8-cdd5-a30405e9a926"
      }
    },
    {
      "cell_type": "code",
      "execution_count": null,
      "source": [
        "#print minimum value between x,y,a, b and c\n",
        "print(min(x, y, a, b, c))"
      ],
      "outputs": [
        {
          "output_type": "stream",
          "name": "stdout",
          "text": [
            "0.6931471805599453\n"
          ]
        }
      ],
      "metadata": {
        "id": "xGbjPCVfOnm5",
        "colab": {
          "base_uri": "https://localhost:8080/"
        },
        "outputId": "70bd01a3-67d3-4349-dbd8-39e7bf07dec6"
      }
    },
    {
      "cell_type": "code",
      "execution_count": null,
      "source": [
        "#print maximum value between x,y,a, b and c\n",
        "print(max(x, y, a, b, c))\n"
      ],
      "outputs": [
        {
          "output_type": "stream",
          "name": "stdout",
          "text": [
            "8\n"
          ]
        }
      ],
      "metadata": {
        "id": "Cr2aOwOYOnm5",
        "colab": {
          "base_uri": "https://localhost:8080/"
        },
        "outputId": "3c54a225-388a-45aa-e1ae-0328e2211e87"
      }
    },
    {
      "cell_type": "code",
      "execution_count": null,
      "source": [
        "#print the largest integer that is smaller than or equal to c. ie.round down\n",
        "print(math.floor(min(x, y, a, b, c)))"
      ],
      "outputs": [
        {
          "output_type": "stream",
          "name": "stdout",
          "text": [
            "0\n"
          ]
        }
      ],
      "metadata": {
        "id": "cdTE9jHJOnm5",
        "colab": {
          "base_uri": "https://localhost:8080/"
        },
        "outputId": "9aafad79-fd21-4eee-d14c-130f80ab97b4"
      }
    },
    {
      "cell_type": "code",
      "execution_count": null,
      "source": [
        "#print the smallest integer that is greater than or equal to c ie. round up\n",
        "print(math.ceil(min(x, y, a, b, c)))"
      ],
      "outputs": [
        {
          "output_type": "stream",
          "name": "stdout",
          "text": [
            "1\n"
          ]
        }
      ],
      "metadata": {
        "id": "YuQFq6iTOnm6",
        "colab": {
          "base_uri": "https://localhost:8080/"
        },
        "outputId": "205a57f5-e837-4861-aaa5-5962c1cedf54"
      }
    },
    {
      "cell_type": "markdown",
      "source": [
        "## Logical operations\n",
        "\n",
        "You must be aware of some logical operations you did in college, like 'and', 'or', 'not' etc. These operations becomes even more easy to implement when you have friend like python.\n",
        "\n",
        "<p style='text-align: right;'> 1 + 1 + 1 + 6 = 9 points </p>\n"
      ],
      "metadata": {
        "id": "7ywGXy77Onm6"
      }
    },
    {
      "cell_type": "code",
      "execution_count": null,
      "source": [
        "# declare two variables, a = True, b = False\n",
        "a = True\n",
        "b = False\n",
        "print(a)\n",
        "print(b)\n"
      ],
      "outputs": [
        {
          "output_type": "stream",
          "name": "stdout",
          "text": [
            "True\n",
            "False\n"
          ]
        }
      ],
      "metadata": {
        "id": "qD67cRQJOnm7",
        "colab": {
          "base_uri": "https://localhost:8080/"
        },
        "outputId": "c9c3813b-2f08-4ba7-a4bd-c6d7949cc4dd"
      }
    },
    {
      "cell_type": "code",
      "execution_count": null,
      "source": [
        "# print type of a and type of b\n",
        "print(type(a))\n",
        "print(type(b))"
      ],
      "outputs": [
        {
          "output_type": "stream",
          "name": "stdout",
          "text": [
            "<class 'bool'>\n",
            "<class 'bool'>\n"
          ]
        }
      ],
      "metadata": {
        "id": "f5Vs8qzjOnm7",
        "colab": {
          "base_uri": "https://localhost:8080/"
        },
        "outputId": "e91325f6-a825-4613-ae6f-5b2ae0fc777f"
      }
    },
    {
      "cell_type": "markdown",
      "source": [
        "A fun fact for you !\n",
        "The Python Boolean type is one of Python's built-in data types. It's used to represent the truth value of an expression"
      ],
      "metadata": {
        "id": "c3_XIcPkOnm7"
      }
    },
    {
      "cell_type": "code",
      "execution_count": null,
      "source": [
        "# print int(a) and int(b)\n",
        "print(\"int of a is\",int(a))\n",
        "print(\"int of b is\",int(b))"
      ],
      "outputs": [
        {
          "output_type": "stream",
          "name": "stdout",
          "text": [
            "int of a is 1\n",
            "int of b is 0\n"
          ]
        }
      ],
      "metadata": {
        "id": "lCruZY6_Onm8",
        "colab": {
          "base_uri": "https://localhost:8080/"
        },
        "outputId": "c7e46eb7-0818-42ec-b498-6784420ccda8"
      }
    },
    {
      "cell_type": "markdown",
      "source": [
        "We are sure you must have seen that, values for 'True' is 1 and for 'False' is 0."
      ],
      "metadata": {
        "id": "y2pKlWHBOnm8"
      }
    },
    {
      "cell_type": "code",
      "execution_count": null,
      "source": [
        "# Find and print the values of not a, not b, a and b, a or b, a and not b\n",
        "# Use not operator for not a and not b\n",
        "print(\"not a = \", not a)\n",
        "print(\"not b = \", not b)\n",
        "print(\"a and b = \", a and b)\n",
        "print(\"a or b = \", a or b)\n",
        "print(\"a and not b =\", a and not b)\n"
      ],
      "outputs": [
        {
          "output_type": "stream",
          "name": "stdout",
          "text": [
            "not a =  False\n",
            "not b =  True\n",
            "a and b =  False\n",
            "a or b =  True\n",
            "a and not b = True\n"
          ]
        }
      ],
      "metadata": {
        "id": "IEuVTnsAOnm8",
        "colab": {
          "base_uri": "https://localhost:8080/"
        },
        "outputId": "318fa8b2-04c7-40fa-ccc9-2512608e85fb"
      }
    },
    {
      "cell_type": "markdown",
      "source": [
        "We hope you tried to undertand the above output! "
      ],
      "metadata": {
        "id": "TI7-60doOnm9"
      }
    },
    {
      "cell_type": "markdown",
      "source": [
        "## List Comprehensions\n",
        "\n",
        "Hey buddy! Python has really amazing thing called list comprehension. List comprehension offers a shorter syntax when you want to create a new list based on the values of an existing list. Cool right? Let's dive into this more by doing it. \n",
        "\n",
        "<p style='text-align: right;'> 10 + 10 + 10= 30 points </p>\n",
        "\n"
      ],
      "metadata": {
        "id": "Ngtt9xc6Onm9"
      }
    },
    {
      "cell_type": "code",
      "source": [
        "# Comprehension\n",
        "YouTubeVideo('https://www.youtube.com/watch?v=Cs8wG--s4z4&list=PLsR_0x6BuM-HJZT6Xzj-088N4hN3KsDME&index=17',width=600,height=300)"
      ],
      "metadata": {
        "colab": {
          "base_uri": "https://localhost:8080/",
          "height": 321
        },
        "id": "A7MBHOJVSGFV",
        "outputId": "a61aa7d1-b708-46b0-afac-4675b3ad286f"
      },
      "execution_count": null,
      "outputs": [
        {
          "output_type": "execute_result",
          "data": {
            "text/html": [
              "\n",
              "        <iframe\n",
              "            width=\"600\"\n",
              "            height=\"300\"\n",
              "            src=\"https://www.youtube.com/embed/https://www.youtube.com/watch?v=Cs8wG--s4z4&list=PLsR_0x6BuM-HJZT6Xzj-088N4hN3KsDME&index=17\"\n",
              "            frameborder=\"0\"\n",
              "            allowfullscreen\n",
              "        ></iframe>\n",
              "        "
            ],
            "text/plain": [
              "<IPython.lib.display.YouTubeVideo at 0x7efe855f1e50>"
            ]
          },
          "metadata": {},
          "execution_count": 5
        }
      ]
    },
    {
      "cell_type": "code",
      "execution_count": null,
      "source": [
        "# Using list comprehension, create a list containing numbers from 1 to 20. \n",
        "# Hint: You can use range function of python to do this.\n",
        "myList = list(range(1,21))\n",
        "print(myList)"
      ],
      "outputs": [
        {
          "output_type": "stream",
          "name": "stdout",
          "text": [
            "[1, 2, 3, 4, 5, 6, 7, 8, 9, 10, 11, 12, 13, 14, 15, 16, 17, 18, 19, 20]\n"
          ]
        }
      ],
      "metadata": {
        "id": "EFQZLhkDOnm9",
        "colab": {
          "base_uri": "https://localhost:8080/"
        },
        "outputId": "acace725-4002-4eda-eb9e-c8c62dbfadde"
      }
    },
    {
      "cell_type": "code",
      "execution_count": null,
      "source": [
        "# Using list comprehension, create a list containing numbers from 1 to 20 that are even\n",
        "myEvenList = list(range(2,21,2))\n",
        "print(myEvenList)"
      ],
      "outputs": [
        {
          "output_type": "stream",
          "name": "stdout",
          "text": [
            "[2, 4, 6, 8, 10, 12, 14, 16, 18, 20]\n"
          ]
        }
      ],
      "metadata": {
        "id": "3fZ8aOSyOnm9",
        "colab": {
          "base_uri": "https://localhost:8080/"
        },
        "outputId": "427f7f26-2b37-44a7-9253-7e9113faeab2"
      }
    },
    {
      "cell_type": "markdown",
      "source": [
        "Create a list of all the fruits you like. Using list comprehension, create another list which contains the total number of charachters for each corresponding fruits.\n",
        "- Eg. fruits = [‘apple’,’kiwi’,’orange’], then output would be - [5,4,6]\n"
      ],
      "metadata": {
        "id": "Nom_UZdsOnm-"
      }
    },
    {
      "cell_type": "code",
      "execution_count": null,
      "source": [
        "fruits = ['apple', 'orange', 'banana']\n",
        "len_fruits = []\n",
        "for fruit in fruits:\n",
        "  len_fruits.append(len(fruit))\n",
        "\n",
        "print(fruits)\n",
        "print(len_fruits)\n"
      ],
      "outputs": [
        {
          "output_type": "stream",
          "name": "stdout",
          "text": [
            "['apple', 'orange', 'banana']\n",
            "[5, 6, 6]\n"
          ]
        }
      ],
      "metadata": {
        "id": "qgTZeieSOnm-",
        "colab": {
          "base_uri": "https://localhost:8080/"
        },
        "outputId": "f3ae2909-1357-409a-99c2-f1f8901cc045"
      }
    },
    {
      "cell_type": "markdown",
      "source": [
        "The above output is shown if fruits = ['apple','kiwi,'orange'], it can vary for different values of fruits\n",
        "\n",
        "Amazing right?\n"
      ],
      "metadata": {
        "id": "EmUChdf-Onm-"
      }
    },
    {
      "cell_type": "markdown",
      "source": [
        "## String value and operators\n",
        "\n",
        "<p style='text-align: right;'> 1 + 1 + 1 + 1 + 1 = 5 points </p>\n"
      ],
      "metadata": {
        "id": "wPzfKH4vOnm_"
      }
    },
    {
      "cell_type": "code",
      "execution_count": null,
      "source": [
        "# string manipulation\n",
        "YouTubeVideo('https://www.youtube.com/watch?v=I6UH_prRboE&list=PLsR_0x6BuM-HJZT6Xzj-088N4hN3KsDME&index=9',width=600,height=300)"
      ],
      "outputs": [
        {
          "output_type": "execute_result",
          "data": {
            "text/html": [
              "\n",
              "        <iframe\n",
              "            width=\"600\"\n",
              "            height=\"300\"\n",
              "            src=\"https://www.youtube.com/embed/https://www.youtube.com/watch?v=I6UH_prRboE&list=PLsR_0x6BuM-HJZT6Xzj-088N4hN3KsDME&index=9\"\n",
              "            frameborder=\"0\"\n",
              "            allowfullscreen\n",
              "        ></iframe>\n",
              "        "
            ],
            "text/plain": [
              "<IPython.lib.display.YouTubeVideo at 0x7efe85171690>"
            ]
          },
          "metadata": {},
          "execution_count": 6
        }
      ],
      "metadata": {
        "colab": {
          "base_uri": "https://localhost:8080/",
          "height": 321
        },
        "id": "JkGT52I9Onm_",
        "outputId": "58b05e98-fbc1-4427-a516-7ee18e2e359e"
      }
    },
    {
      "cell_type": "markdown",
      "source": [
        "### Characters in strings\n",
        "\n",
        "\n",
        "Reference:- https://www.programiz.com/python-programming/string\n",
        "\n"
      ],
      "metadata": {
        "id": "Ee_vso2gOnm_"
      }
    },
    {
      "cell_type": "code",
      "execution_count": null,
      "source": [
        "# declare the variables x = cat and y = dog and print it\n",
        "x =  'cat'\n",
        "y = 'dog'\n",
        "\n",
        "print(x)\n",
        "print(y)"
      ],
      "outputs": [
        {
          "output_type": "stream",
          "name": "stdout",
          "text": [
            "cat\n",
            "dog\n"
          ]
        }
      ],
      "metadata": {
        "id": "3SeJY_uNOnm_",
        "colab": {
          "base_uri": "https://localhost:8080/"
        },
        "outputId": "c2e7b884-1756-4e44-87da-c99392455359"
      }
    },
    {
      "cell_type": "code",
      "execution_count": null,
      "source": [
        "#Print first character of both x and y. \n",
        "print(\"First ch of x = \", x[0])\n",
        "print(\"First ch of y = \", y[0])"
      ],
      "outputs": [
        {
          "output_type": "stream",
          "name": "stdout",
          "text": [
            "First ch of x =  c\n",
            "First ch of y =  d\n"
          ]
        }
      ],
      "metadata": {
        "id": "J6WM2PYhOnm_",
        "colab": {
          "base_uri": "https://localhost:8080/"
        },
        "outputId": "428589d2-cd8b-4e00-d73c-c4ac126e958c"
      }
    },
    {
      "cell_type": "code",
      "execution_count": null,
      "source": [
        "#Print last character of both x and y.\n",
        "print(\"Last ch of x = \", x[-1])\n",
        "print(\"Last ch of y = \", y[-1])"
      ],
      "outputs": [
        {
          "output_type": "stream",
          "name": "stdout",
          "text": [
            "Last ch of x =  t\n",
            "Last ch of y =  g\n"
          ]
        }
      ],
      "metadata": {
        "id": "T4cyd2QJOnnA",
        "colab": {
          "base_uri": "https://localhost:8080/"
        },
        "outputId": "8c953796-50fc-4569-d1d0-a5f430ef69f9"
      }
    },
    {
      "cell_type": "code",
      "execution_count": null,
      "source": [
        "#Print len of both x and y\n",
        "print(\"Length of x is = \", len(x))\n",
        "print(\"Length of y is = \", len(y))"
      ],
      "outputs": [
        {
          "output_type": "stream",
          "name": "stdout",
          "text": [
            "Length of x is =  3\n",
            "Length of y is =  3\n"
          ]
        }
      ],
      "metadata": {
        "id": "jWHyH2o7OnnA",
        "colab": {
          "base_uri": "https://localhost:8080/"
        },
        "outputId": "81011520-c2ac-428a-d0ef-44687cbaf89e"
      }
    },
    {
      "cell_type": "code",
      "execution_count": null,
      "source": [
        "#concatenate both x and y and store it in variable z and print z\n",
        "z = x + y\n",
        "print(z)"
      ],
      "outputs": [
        {
          "output_type": "stream",
          "name": "stdout",
          "text": [
            "catdog\n"
          ]
        }
      ],
      "metadata": {
        "id": "wcu4u4ZdOnnA",
        "colab": {
          "base_uri": "https://localhost:8080/"
        },
        "outputId": "e10fb8a0-6f15-4c42-9a3a-b157b05791e4"
      }
    },
    {
      "cell_type": "code",
      "execution_count": null,
      "source": [
        "#check if x is part of z \n",
        "print(x in z)"
      ],
      "outputs": [
        {
          "output_type": "stream",
          "name": "stdout",
          "text": [
            "True\n"
          ]
        }
      ],
      "metadata": {
        "id": "gfbQ0ahAOnnA",
        "colab": {
          "base_uri": "https://localhost:8080/"
        },
        "outputId": "5613283a-246c-4f26-b852-88db2e63e8a9"
      }
    },
    {
      "cell_type": "markdown",
      "source": [
        "### String slicing\n",
        "\n",
        "\n",
        "\n",
        "Hey coder, do you know? Python slicing is about obtaining a sub-string from the given string by slicing it respectively from start to end\n",
        "\n",
        "So be ready to implement it today!\n",
        "<p style='text-align: right;'> 2 points </p>"
      ],
      "metadata": {
        "id": "lVchUi7YOnnB"
      }
    },
    {
      "cell_type": "code",
      "execution_count": null,
      "source": [
        "#Create variable a = “pineapple”\n",
        "a = \"pineapple\"\n",
        "print(a)"
      ],
      "outputs": [
        {
          "output_type": "stream",
          "name": "stdout",
          "text": [
            "pineapple\n"
          ]
        }
      ],
      "metadata": {
        "id": "VPiDEDDTOnnB",
        "colab": {
          "base_uri": "https://localhost:8080/"
        },
        "outputId": "b07c0e73-baec-4c6a-fe58-e565eb1b07ad"
      }
    },
    {
      "cell_type": "code",
      "execution_count": null,
      "source": [
        "# Using index slicing, print the words ‘pine’ and “apple”.\n",
        "# HINT - a[:]\n",
        "print(a[:4])\n",
        "print(a[4:])"
      ],
      "outputs": [
        {
          "output_type": "stream",
          "name": "stdout",
          "text": [
            "pine\n",
            "apple\n"
          ]
        }
      ],
      "metadata": {
        "id": "eCNFSjIROnnB",
        "colab": {
          "base_uri": "https://localhost:8080/"
        },
        "outputId": "05ae3238-486d-477b-bcdd-578c2d9695cf"
      }
    },
    {
      "cell_type": "code",
      "execution_count": null,
      "source": [
        "#Convert a into upper case\n",
        "print(a.upper())"
      ],
      "outputs": [
        {
          "output_type": "stream",
          "name": "stdout",
          "text": [
            "PINEAPPLE\n"
          ]
        }
      ],
      "metadata": {
        "id": "Z6881zT0OnnB",
        "colab": {
          "base_uri": "https://localhost:8080/"
        },
        "outputId": "ce0abdb7-2a0a-4e9e-bced-df2546e81a03"
      }
    },
    {
      "cell_type": "markdown",
      "source": [
        "## Dealing with Sentences\n",
        "\n",
        "<p style='text-align: right;'> 1+1+1+1+1+1 = 6 points </p>\n"
      ],
      "metadata": {
        "id": "mEw9dmM2OnnC"
      }
    },
    {
      "cell_type": "code",
      "execution_count": null,
      "source": [
        "# Declare a sentence of ‘I am flying to London’ and print it\n",
        "sentence = 'I am flying to London'\n",
        "print(sentence)"
      ],
      "outputs": [
        {
          "output_type": "stream",
          "name": "stdout",
          "text": [
            "I am flying to London\n"
          ]
        }
      ],
      "metadata": {
        "id": "O-eulzDKOnnC",
        "colab": {
          "base_uri": "https://localhost:8080/"
        },
        "outputId": "7277c705-97b4-4c42-e560-daa143cfed0b"
      }
    },
    {
      "cell_type": "code",
      "execution_count": null,
      "source": [
        "#Print length of the sentence\n",
        "print(\"Len of sentence is\",len(sentence))"
      ],
      "outputs": [
        {
          "output_type": "stream",
          "name": "stdout",
          "text": [
            "Len of sentence is 21\n"
          ]
        }
      ],
      "metadata": {
        "id": "6YqhY71aOnnC",
        "colab": {
          "base_uri": "https://localhost:8080/"
        },
        "outputId": "9ceaa11d-55ef-4d31-c9a3-fe9aec01b7c3"
      }
    },
    {
      "cell_type": "code",
      "execution_count": null,
      "source": [
        "#Using list indexing, to print the word London\n",
        "sentence.split()[4]"
      ],
      "outputs": [
        {
          "output_type": "execute_result",
          "data": {
            "application/vnd.google.colaboratory.intrinsic+json": {
              "type": "string"
            },
            "text/plain": [
              "'London'"
            ]
          },
          "metadata": {},
          "execution_count": 104
        }
      ],
      "metadata": {
        "id": "ueh0avBIOnnC",
        "colab": {
          "base_uri": "https://localhost:8080/",
          "height": 35
        },
        "outputId": "08d0d1d7-642b-4aa6-d4c9-48ca2c364b49"
      }
    },
    {
      "cell_type": "code",
      "execution_count": null,
      "source": [
        "# Use .split to get list of individual words in the sentence\n",
        "sentence.split()"
      ],
      "outputs": [
        {
          "output_type": "execute_result",
          "data": {
            "text/plain": [
              "['I', 'am', 'flying', 'to', 'London']"
            ]
          },
          "metadata": {},
          "execution_count": 99
        }
      ],
      "metadata": {
        "id": "XxWpC9-pOnnC",
        "colab": {
          "base_uri": "https://localhost:8080/"
        },
        "outputId": "7bd0846a-9c12-4c72-e549-8dce6c4b6ccc"
      }
    },
    {
      "cell_type": "code",
      "execution_count": null,
      "source": [
        "# Convert sentence in lower case \n",
        "sentence.lower()"
      ],
      "outputs": [
        {
          "output_type": "execute_result",
          "data": {
            "application/vnd.google.colaboratory.intrinsic+json": {
              "type": "string"
            },
            "text/plain": [
              "'i am flying to london'"
            ]
          },
          "metadata": {},
          "execution_count": 98
        }
      ],
      "metadata": {
        "id": "cv-iS9BrOnnD",
        "colab": {
          "base_uri": "https://localhost:8080/",
          "height": 35
        },
        "outputId": "49e023d1-2d4b-481b-9bb1-b27e4ee8e19c"
      }
    },
    {
      "cell_type": "code",
      "execution_count": null,
      "source": [
        "# Convert sentence in upper case .\n",
        "sentence.upper()"
      ],
      "outputs": [
        {
          "output_type": "execute_result",
          "data": {
            "application/vnd.google.colaboratory.intrinsic+json": {
              "type": "string"
            },
            "text/plain": [
              "'I AM FLYING TO LONDON'"
            ]
          },
          "metadata": {},
          "execution_count": 97
        }
      ],
      "metadata": {
        "id": "Qv4XhFETOnnD",
        "colab": {
          "base_uri": "https://localhost:8080/",
          "height": 35
        },
        "outputId": "72947bed-1a99-4f1f-ff70-18a9e9e0cf68"
      }
    },
    {
      "cell_type": "markdown",
      "source": [
        "Great job! Slicing is fun."
      ],
      "metadata": {
        "id": "Wz53Tr8YOnnD"
      }
    },
    {
      "cell_type": "markdown",
      "source": [
        "## Functions\n",
        "\n",
        "Declare a function named square, which takes an input as x, and returns the square of x.\n",
        "\n",
        "<p style='text-align: right;'> 5 + 3 = 8 points </p>\n"
      ],
      "metadata": {
        "id": "EpMEG_R3OnnE"
      }
    },
    {
      "cell_type": "code",
      "execution_count": null,
      "source": [
        "# Functions-1\n",
        "YouTubeVideo('https://www.youtube.com/watch?v=cjtAbp-Ux-w&list=PLsR_0x6BuM-HJZT6Xzj-088N4hN3KsDME&index=15',width=600,height=300)"
      ],
      "outputs": [
        {
          "output_type": "execute_result",
          "data": {
            "text/html": [
              "\n",
              "        <iframe\n",
              "            width=\"600\"\n",
              "            height=\"300\"\n",
              "            src=\"https://www.youtube.com/embed/https://www.youtube.com/watch?v=cjtAbp-Ux-w&list=PLsR_0x6BuM-HJZT6Xzj-088N4hN3KsDME&index=15\"\n",
              "            frameborder=\"0\"\n",
              "            allowfullscreen\n",
              "        ></iframe>\n",
              "        "
            ],
            "text/plain": [
              "<IPython.lib.display.YouTubeVideo at 0x7efe85178a50>"
            ]
          },
          "metadata": {},
          "execution_count": 7
        }
      ],
      "metadata": {
        "colab": {
          "base_uri": "https://localhost:8080/",
          "height": 321
        },
        "id": "xrJ-Nmq7OnnE",
        "outputId": "08b3a556-6a58-4ea1-cff6-94bf6af3e707"
      }
    },
    {
      "cell_type": "code",
      "source": [
        "# Function-2\n",
        "YouTubeVideo('https://www.youtube.com/watch?v=cjtAbp-Ux-w&list=PLsR_0x6BuM-HJZT6Xzj-088N4hN3KsDME&index=16',width=600,height=300)"
      ],
      "metadata": {
        "colab": {
          "base_uri": "https://localhost:8080/",
          "height": 321
        },
        "id": "LPGhSZf_S9JU",
        "outputId": "e6f29551-c93c-45ed-d39d-1e8a9722aea9"
      },
      "execution_count": null,
      "outputs": [
        {
          "output_type": "execute_result",
          "data": {
            "text/html": [
              "\n",
              "        <iframe\n",
              "            width=\"600\"\n",
              "            height=\"300\"\n",
              "            src=\"https://www.youtube.com/embed/https://www.youtube.com/watch?v=cjtAbp-Ux-w&list=PLsR_0x6BuM-HJZT6Xzj-088N4hN3KsDME&index=16\"\n",
              "            frameborder=\"0\"\n",
              "            allowfullscreen\n",
              "        ></iframe>\n",
              "        "
            ],
            "text/plain": [
              "<IPython.lib.display.YouTubeVideo at 0x7efe85182850>"
            ]
          },
          "metadata": {},
          "execution_count": 8
        }
      ]
    },
    {
      "cell_type": "markdown",
      "source": [
        "Call the function to find the value of square of 9."
      ],
      "metadata": {
        "id": "KX4y0IHVOnnE"
      }
    },
    {
      "cell_type": "code",
      "execution_count": null,
      "source": [
        "# find the square of 9 using the function square you have just created.\n",
        "def square(x):\n",
        "  return x ** 2\n",
        "\n",
        "  \n",
        "print(\"Square of 9 is \", square(9))"
      ],
      "outputs": [
        {
          "output_type": "stream",
          "name": "stdout",
          "text": [
            "Square of 9 is  81\n"
          ]
        }
      ],
      "metadata": {
        "id": "ms2A-A15OnnE",
        "colab": {
          "base_uri": "https://localhost:8080/"
        },
        "outputId": "2ce5146a-90d3-42a6-d127-99a24a087cb9"
      }
    },
    {
      "cell_type": "markdown",
      "source": [
        "Wohoo! see, defining function was simple"
      ],
      "metadata": {
        "id": "ehBLnbH-OnnE"
      }
    },
    {
      "cell_type": "markdown",
      "source": [
        "#### Define another function which checks whether a given is number is odd or even for a given input and it should print whether the  number is odd or even as an output\n",
        "<p style='text-align: right;'> 5 + 3 = 8 points </p>\n"
      ],
      "metadata": {
        "id": "h01u89J0OnnF"
      }
    },
    {
      "cell_type": "code",
      "execution_count": null,
      "source": [
        "# your code here\n",
        "def oddEven(x):\n",
        "  if (x % 2 == 0):\n",
        "    return \"Even\"\n",
        "  else:\n",
        "    return \"Odd\""
      ],
      "outputs": [],
      "metadata": {
        "id": "MNVuqrmgOnnF"
      }
    },
    {
      "cell_type": "markdown",
      "source": [
        "Hey smarty! lets use both the functions together to check whether the square of 3,6 and 21 are odd or even.\n"
      ],
      "metadata": {
        "id": "PH7VEP8eOnnF"
      }
    },
    {
      "cell_type": "code",
      "execution_count": null,
      "source": [
        " # your code here\n",
        "print(\"{} is {}\".format(square(3), oddEven(square(3))))\n",
        "print(\"{} is {}\".format(square(6), oddEven(square(6))))\n",
        "print(\"{} is {}\".format(square(21), oddEven(square(21))))"
      ],
      "outputs": [
        {
          "output_type": "stream",
          "name": "stdout",
          "text": [
            "9 is Odd\n",
            "36 is Even\n",
            "441 is Odd\n"
          ]
        }
      ],
      "metadata": {
        "id": "lhFMpKfHOnnF",
        "colab": {
          "base_uri": "https://localhost:8080/"
        },
        "outputId": "ce488671-d410-4a3d-e750-97fc3b9b7886"
      }
    },
    {
      "cell_type": "markdown",
      "source": [
        "hey hey! You did a great code. Did you see the benefit of using functions"
      ],
      "metadata": {
        "id": "aSnw4vEHOnnF"
      }
    },
    {
      "cell_type": "markdown",
      "source": [
        "# Loops and Iterations"
      ],
      "metadata": {
        "id": "7TThdIkzOnnG"
      }
    },
    {
      "cell_type": "markdown",
      "source": [
        "## If statement\n",
        "\n",
        "<p style='text-align: right;'> 1 + 2 + 3 = 6 points </p>\n"
      ],
      "metadata": {
        "id": "MyKf8rF1OnnG"
      }
    },
    {
      "cell_type": "code",
      "source": [
        "# conditions\n",
        "YouTubeVideo('https://www.youtube.com/watch?v=CLqw5KZZ8Dg&list=PLsR_0x6BuM-HJZT6Xzj-088N4hN3KsDME&index=11',width=600,height=300)"
      ],
      "metadata": {
        "colab": {
          "base_uri": "https://localhost:8080/",
          "height": 321
        },
        "id": "8jLCzSQ9Tafb",
        "outputId": "1ab609ca-b776-458f-8cf7-8f1a4a6ff6a7"
      },
      "execution_count": null,
      "outputs": [
        {
          "output_type": "execute_result",
          "data": {
            "text/html": [
              "\n",
              "        <iframe\n",
              "            width=\"600\"\n",
              "            height=\"300\"\n",
              "            src=\"https://www.youtube.com/embed/https://www.youtube.com/watch?v=CLqw5KZZ8Dg&list=PLsR_0x6BuM-HJZT6Xzj-088N4hN3KsDME&index=11\"\n",
              "            frameborder=\"0\"\n",
              "            allowfullscreen\n",
              "        ></iframe>\n",
              "        "
            ],
            "text/plain": [
              "<IPython.lib.display.YouTubeVideo at 0x7efe8518e810>"
            ]
          },
          "metadata": {},
          "execution_count": 9
        }
      ]
    },
    {
      "cell_type": "code",
      "execution_count": null,
      "source": [
        "#Declare a variable x equal to a number of your choice.\n",
        "#your code here\n",
        "x =  0\n",
        "print(x)"
      ],
      "outputs": [
        {
          "output_type": "stream",
          "name": "stdout",
          "text": [
            "0\n"
          ]
        }
      ],
      "metadata": {
        "id": "3srU1iT1OnnG",
        "colab": {
          "base_uri": "https://localhost:8080/"
        },
        "outputId": "19d31269-9e8a-4d6b-819e-e1e8726cb795"
      }
    },
    {
      "cell_type": "code",
      "execution_count": null,
      "source": [
        "#Using an if statement, print whether x is zero, positive or negative.\n",
        "if x > 0:\n",
        "  print(\"+ve\")\n",
        "elif x < 0:\n",
        "  print(\"-ve\")\n",
        "else:\n",
        "  print(\"0 if zero\")\n"
      ],
      "outputs": [
        {
          "output_type": "stream",
          "name": "stdout",
          "text": [
            "0 if zero\n"
          ]
        }
      ],
      "metadata": {
        "id": "qjbO3dNLOnnH",
        "colab": {
          "base_uri": "https://localhost:8080/"
        },
        "outputId": "f92aa6a0-551c-4225-e854-f89a18a62001"
      }
    },
    {
      "cell_type": "code",
      "execution_count": null,
      "source": [
        "# Now Define a function, which takes input from the user and prints whether the given input is zero,positive or negative.\n",
        "\n",
        "def check_num(x):\n",
        "  if x > 0:\n",
        "    return \"positive\"\n",
        "  elif x < 0:\n",
        "    return \"negative\"\n",
        "  else:\n",
        "    return \"zero\"\n",
        "\n",
        "print(\"10 is {}\".format((check_num(10))))\n",
        "print(\"-2 is {}\".format((check_num(-2))))\n",
        "print(\"0 if {}\".format((check_num(0))))\n"
      ],
      "outputs": [
        {
          "output_type": "stream",
          "name": "stdout",
          "text": [
            "10 is positive\n",
            "-2 is negative\n",
            "0 if zero\n"
          ]
        }
      ],
      "metadata": {
        "id": "Qje0Z0zLOnnH",
        "colab": {
          "base_uri": "https://localhost:8080/"
        },
        "outputId": "50131b0f-7748-4ce2-9caa-1c9e71b3a4cf"
      }
    },
    {
      "cell_type": "markdown",
      "source": [
        "## For loop"
      ],
      "metadata": {
        "id": "8QnzejuHOnnH"
      }
    },
    {
      "cell_type": "markdown",
      "source": [
        "<p style='text-align: right;'> 2 points </p>\n"
      ],
      "metadata": {
        "id": "Nh3IHYqNOnnH"
      }
    },
    {
      "cell_type": "code",
      "source": [
        "# Loops\n",
        "YouTubeVideo('https://www.youtube.com/watch?v=56-IOucIwAU&list=PLsR_0x6BuM-HJZT6Xzj-088N4hN3KsDME&index=12',width=600,height=300)"
      ],
      "metadata": {
        "colab": {
          "base_uri": "https://localhost:8080/",
          "height": 321
        },
        "id": "5iohidqhTzVZ",
        "outputId": "ba74b218-b345-472e-becc-65127610f5e7"
      },
      "execution_count": null,
      "outputs": [
        {
          "output_type": "execute_result",
          "data": {
            "text/html": [
              "\n",
              "        <iframe\n",
              "            width=\"600\"\n",
              "            height=\"300\"\n",
              "            src=\"https://www.youtube.com/embed/https://www.youtube.com/watch?v=56-IOucIwAU&list=PLsR_0x6BuM-HJZT6Xzj-088N4hN3KsDME&index=12\"\n",
              "            frameborder=\"0\"\n",
              "            allowfullscreen\n",
              "        ></iframe>\n",
              "        "
            ],
            "text/plain": [
              "<IPython.lib.display.YouTubeVideo at 0x7efe85178090>"
            ]
          },
          "metadata": {},
          "execution_count": 10
        }
      ]
    },
    {
      "cell_type": "code",
      "execution_count": null,
      "source": [
        "#Create a list x, such that it contains the elements - ‘India’, ‘Israel’,’Canada’.\n",
        "\n",
        "x = ['India', 'Israel', 'Canada']\n"
      ],
      "outputs": [],
      "metadata": {
        "id": "50nOGOuqOnnI"
      }
    },
    {
      "cell_type": "code",
      "execution_count": null,
      "source": [
        "#Using For loop, iterate over the list and print the elements.\n",
        "for i in x:\n",
        "  print(i)\n"
      ],
      "outputs": [
        {
          "output_type": "stream",
          "name": "stdout",
          "text": [
            "India\n",
            "Israel\n",
            "Canada\n"
          ]
        }
      ],
      "metadata": {
        "id": "VxfS6YKYOnnI",
        "colab": {
          "base_uri": "https://localhost:8080/"
        },
        "outputId": "8b30ee92-1746-4b9d-98c0-6a0dbf51b107"
      }
    },
    {
      "cell_type": "markdown",
      "source": [
        "<p style='text-align: right;'> 2 points </p>\n"
      ],
      "metadata": {
        "id": "jz61jhLlOnnI"
      }
    },
    {
      "cell_type": "code",
      "execution_count": null,
      "source": [
        "# Using For loop, print the table of 2.\n",
        "for i in range(1,11,1):\n",
        "  print(\"2 * {} = {}\".format(i, i * 2))\n"
      ],
      "outputs": [
        {
          "output_type": "stream",
          "name": "stdout",
          "text": [
            "2 * 1 = 2\n",
            "2 * 2 = 4\n",
            "2 * 3 = 6\n",
            "2 * 4 = 8\n",
            "2 * 5 = 10\n",
            "2 * 6 = 12\n",
            "2 * 7 = 14\n",
            "2 * 8 = 16\n",
            "2 * 9 = 18\n",
            "2 * 10 = 20\n"
          ]
        }
      ],
      "metadata": {
        "id": "mvqvf7OAOnnI",
        "colab": {
          "base_uri": "https://localhost:8080/"
        },
        "outputId": "31ef2560-de71-42cb-ea72-577a5b980063"
      }
    },
    {
      "cell_type": "markdown",
      "source": [
        "For a given list, x = [21, ‘hello,’cream’, 20,19,’village’], using for loop to iterate over the items and using - if statement print the items that are of type int"
      ],
      "metadata": {
        "id": "yg4SzR4oOnnI"
      }
    },
    {
      "cell_type": "code",
      "execution_count": null,
      "source": [
        "#code here\n",
        "# hint: use if type(i) == int: condition to print variable which are of int type\n",
        "x = [21, 'hello','cream', 20,19,'village']\n",
        "\n",
        "for i in x:\n",
        "  if type(i) == int:\n",
        "    print(i)\n"
      ],
      "outputs": [
        {
          "output_type": "stream",
          "name": "stdout",
          "text": [
            "21\n",
            "20\n",
            "19\n"
          ]
        }
      ],
      "metadata": {
        "id": "05SkQO3COnnJ",
        "colab": {
          "base_uri": "https://localhost:8080/"
        },
        "outputId": "a2484690-ee82-43f8-dcc8-b5068fcbb519"
      }
    },
    {
      "cell_type": "markdown",
      "source": [
        "Using For loop, lets create a pattern. "
      ],
      "metadata": {
        "id": "ab7bEu3xOnnJ"
      }
    },
    {
      "cell_type": "markdown",
      "source": [
        "<p style='text-align: right;'> 10 points </p>\n"
      ],
      "metadata": {
        "id": "2KNZFi5zOnnJ"
      }
    },
    {
      "cell_type": "code",
      "execution_count": null,
      "source": [
        "# print the following pattern\n",
        "for i in range(1,6,1):\n",
        "  arr = \"\"\n",
        "  for j in range(i):\n",
        "    arr = arr + \"* \"\n",
        "  print(arr)"
      ],
      "outputs": [
        {
          "output_type": "stream",
          "name": "stdout",
          "text": [
            "* \n",
            "* * \n",
            "* * * \n",
            "* * * * \n",
            "* * * * * \n"
          ]
        }
      ],
      "metadata": {
        "id": "kOZsmIiLOnnJ",
        "colab": {
          "base_uri": "https://localhost:8080/"
        },
        "outputId": "96dc3943-bc42-4efd-c0f9-5632c8024411"
      }
    },
    {
      "cell_type": "markdown",
      "source": [
        "## While loop"
      ],
      "metadata": {
        "id": "1WYgQq4AOnnJ"
      }
    },
    {
      "cell_type": "markdown",
      "source": [
        "- Using while loop make a function that prints all the values between 1 to n. "
      ],
      "metadata": {
        "id": "jyjME3nPOnnK"
      }
    },
    {
      "cell_type": "markdown",
      "source": [
        "<p style='text-align: right;'> 10 points </p>\n"
      ],
      "metadata": {
        "id": "xbJ4Cz9gOnnK"
      }
    },
    {
      "cell_type": "code",
      "execution_count": null,
      "source": [
        "def counter(n):\n",
        " # add your code here\n",
        " i = 1\n",
        " while i < n:\n",
        "   print(i)\n",
        "   i = i + 1\n",
        "\n"
      ],
      "outputs": [],
      "metadata": {
        "id": "2k9Aij8_OnnK"
      }
    },
    {
      "cell_type": "code",
      "execution_count": null,
      "source": [
        " counter(10) #this should print numbers from 1 to 10"
      ],
      "outputs": [
        {
          "output_type": "stream",
          "name": "stdout",
          "text": [
            "1\n",
            "2\n",
            "3\n",
            "4\n",
            "5\n",
            "6\n",
            "7\n",
            "8\n",
            "9\n"
          ]
        }
      ],
      "metadata": {
        "id": "qd1VznT2OnnK",
        "colab": {
          "base_uri": "https://localhost:8080/"
        },
        "outputId": "ffd2f342-1a2c-414c-ad15-6a26d93ce546"
      }
    },
    {
      "cell_type": "markdown",
      "source": [
        "### Write the code for the following, what is the output obtained?\n",
        "- Set a variable flag = True, num = 5\n",
        "- Run a while loop till flag = True\n",
        "- Inside the while loop - \n",
        "    - Increment the value of num by 5\n",
        "    - If value of num is greater then 50, set flag to be False"
      ],
      "metadata": {
        "id": "kKB5qVCxOnnL"
      }
    },
    {
      "cell_type": "code",
      "execution_count": null,
      "source": [
        "# your code here\n",
        "flag = True\n",
        "num = 5\n",
        "\n",
        "while flag:\n",
        "  print(num)\n",
        "  num = num + 5\n",
        "  if num > 50: \n",
        "    flag = False\n",
        "  "
      ],
      "outputs": [
        {
          "output_type": "stream",
          "name": "stdout",
          "text": [
            "5\n",
            "10\n",
            "15\n",
            "20\n",
            "25\n",
            "30\n",
            "35\n",
            "40\n",
            "45\n",
            "50\n"
          ]
        }
      ],
      "metadata": {
        "id": "RsCW8__JOnnM",
        "colab": {
          "base_uri": "https://localhost:8080/"
        },
        "outputId": "917596ae-b6ca-4ca7-e8e8-38032ed99d3d"
      }
    },
    {
      "cell_type": "markdown",
      "source": [
        "Awsesome! Great job so far. Hope you fell in love with python now."
      ],
      "metadata": {
        "id": "sQxbS2kzOnnM"
      }
    },
    {
      "cell_type": "markdown",
      "source": [
        "----------------------------------------------------------------------"
      ],
      "metadata": {
        "id": "zroTaOSLOnnN"
      }
    },
    {
      "cell_type": "markdown",
      "source": [
        "# Smile, you completed the first milestone :)!! "
      ],
      "metadata": {
        "id": "4ibh00DQOnnN"
      }
    },
    {
      "cell_type": "markdown",
      "source": [
        "# Its Feedback Time!\n",
        "\n",
        "We hope you’ve enjoyed this course so far. We’re committed to help you use \"AI for All\" course to its full potential, so that you have a great learning experience. And that’s why we need your help in form of a feedback here.\n",
        "\n",
        "**Please fill this feedback form**\n",
        " https://zfrmz.in/MtRG5oWXBdesm6rmSM7N\n",
        " \n",
        "-------------------------------------\n",
        " "
      ],
      "metadata": {
        "id": "erddMO8yOnnN"
      }
    }
  ],
  "metadata": {
    "kernelspec": {
      "name": "python3",
      "display_name": "Python 3.7.7 64-bit ('base': conda)"
    },
    "language_info": {
      "codemirror_mode": {
        "name": "ipython",
        "version": 3
      },
      "file_extension": ".py",
      "mimetype": "text/x-python",
      "name": "python",
      "nbconvert_exporter": "python",
      "pygments_lexer": "ipython3",
      "version": "3.7.7"
    },
    "interpreter": {
      "hash": "fb2d3f2a20add04007a107bc483b4e625069f7acb60837d887d77da2f0eec5b6"
    },
    "colab": {
      "name": "Python-Basics-Solution.ipynb",
      "provenance": [],
      "collapsed_sections": [],
      "include_colab_link": true
    }
  },
  "nbformat": 4,
  "nbformat_minor": 0
}